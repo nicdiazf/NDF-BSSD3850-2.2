{
 "cells": [
  {
   "cell_type": "code",
   "execution_count": 22,
   "metadata": {},
   "outputs": [],
   "source": [
    "'''\n",
    "author @ nicole diaz flores\n",
    "date:02/01/2021\n",
    "prof: Jonathan Lee\n",
    "class: Data Modeling BSSD3850\n",
    "'''\n",
    "\n",
    "#--------------------------------------- IMPORTS\n",
    "import numpy as np\n",
    "\n",
    "\n",
    "#---------------------------------------- GLOBAL VAR.\n",
    "matrix_a = ([3,-1,2],[-2,4,0])\n",
    "matrix_b = ([2,0],[-1,4],[-3,2])\n",
    "\n",
    "#print(matrix_a)\n",
    "#print()\n",
    "#print(matrix_b)\n",
    "\n",
    "\n",
    "\n",
    "#--------------------------------------- QUESTION 4\n",
    "def q4():\n",
    "    res = np.dot(matrix_a,matrix_b)\n",
    "    print(res)"
   ]
  },
  {
   "cell_type": "code",
   "execution_count": 23,
   "metadata": {},
   "outputs": [],
   "source": [
    "#---------------------------------------- QUESTION 7\n",
    "def q7():\n",
    "    res = np.dot(matrix_b,matrix_a)\n",
    "    print(res)"
   ]
  },
  {
   "cell_type": "code",
   "execution_count": 27,
   "metadata": {},
   "outputs": [],
   "source": [
    "#---------------------------------------- QUESTION 12\n",
    "def q12():\n",
    "    mata = ([3,-2,5],[0,-1,6],[-4,2,-1])\n",
    "    matb = ([2,-1,0],[3,-5,2],[1,4,-2])\n",
    "    \n",
    "    res = np.dot(matb,mata)\n",
    "    print(res)"
   ]
  },
  {
   "cell_type": "code",
   "execution_count": 29,
   "metadata": {},
   "outputs": [
    {
     "name": "stdout",
     "output_type": "stream",
     "text": [
      "Q4:\n",
      "[[ 1  0]\n",
      " [-8 16]]\n",
      "\n",
      "------------------------------------------\n",
      "Q7:\n",
      "[[  6  -2   4]\n",
      " [-11  17  -2]\n",
      " [-13  11  -6]]\n",
      "\n",
      "------------------------------------------\n",
      "Q12: \n",
      "[[  6  -3   4]\n",
      " [  1   3 -17]\n",
      " [ 11 -10  31]]\n"
     ]
    }
   ],
   "source": [
    "#-------------------------------- Main()\n",
    "\n",
    "#QUESTION 4: Correct answer on code & website\n",
    "print(\"Q4:\")\n",
    "q4()\n",
    "print(\"\\n------------------------------------------\")\n",
    "\n",
    "#QUESTION 7: Correct answer on code & website\n",
    "print(\"Q7:\")\n",
    "q7()\n",
    "print(\"\\n------------------------------------------\")\n",
    "\n",
    "#QUESTION 12: Correct answer on code & website\n",
    "print(\"Q12: \")\n",
    "q12()"
   ]
  },
  {
   "cell_type": "code",
   "execution_count": null,
   "metadata": {},
   "outputs": [],
   "source": []
  }
 ],
 "metadata": {
  "kernelspec": {
   "display_name": "Python 3",
   "language": "python",
   "name": "python3"
  },
  "language_info": {
   "codemirror_mode": {
    "name": "ipython",
    "version": 3
   },
   "file_extension": ".py",
   "mimetype": "text/x-python",
   "name": "python",
   "nbconvert_exporter": "python",
   "pygments_lexer": "ipython3",
   "version": "3.8.5"
  }
 },
 "nbformat": 4,
 "nbformat_minor": 4
}
