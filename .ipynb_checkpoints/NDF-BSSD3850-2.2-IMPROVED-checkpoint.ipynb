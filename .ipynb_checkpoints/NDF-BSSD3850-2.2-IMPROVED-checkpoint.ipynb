{
 "cells": [
  {
   "cell_type": "code",
   "execution_count": 100,
   "metadata": {},
   "outputs": [
    {
     "data": {
      "text/plain": [
       "'\\nauthor @ nicole diaz flores\\ndate: 02/01/2021\\nclass: Data Modeling BSSD3850\\nProf @ Jonathan Lee\\n'"
      ]
     },
     "execution_count": 100,
     "metadata": {},
     "output_type": "execute_result"
    }
   ],
   "source": [
    "'''\n",
    "author @ nicole diaz flores\n",
    "date: 02/01/2021\n",
    "class: Data Modeling BSSD3850\n",
    "Prof @ Jonathan Lee\n",
    "'''"
   ]
  },
  {
   "cell_type": "code",
   "execution_count": 47,
   "metadata": {},
   "outputs": [],
   "source": [
    "#---------------------------------------------- IMPORTS\n",
    "import numpy as np\n"
   ]
  },
  {
   "cell_type": "code",
   "execution_count": 48,
   "metadata": {},
   "outputs": [],
   "source": [
    "def fit(iterations):\n",
    "    step = 0.1\n",
    "    for itr in range(iterations):\n",
    "        #print(itr,weights)\n",
    "        \n",
    "        num_errors = 0\n",
    "\n",
    "        for i in range(len(input_data)):\n",
    "            #pull out weights after the 0 position\n",
    "            w_sum = weighted_sum(input_data[i],weights[1:])\n",
    "            #add bias (first weight)\n",
    "            w_sum = weights[0]+w_sum\n",
    "            \n",
    "            act = activation(w_sum,threshold)\n",
    "            print(\"activation: {0}  &   output labels: {1}\".format(act,output_labels[i]))\n",
    "            \n",
    "            error = output_labels[i]-act\n",
    "\n",
    "            if error != 0: \n",
    "                num_errors+=1        \n",
    "                #updating weights\n",
    "                weights[1] += step * error * input_data[i][0]\n",
    "                weights[2] += step * error * input_data[i][1]\n",
    "                \n",
    "            if num_errors == 0:\n",
    "                print(\"iteration: {0}   & weights: {1}\\n\".format(itr,weights))\n",
    "                break\n",
    "            else:\n",
    "                pass\n",
    "                #print(\"no answer\")\n",
    "            "
   ]
  },
  {
   "cell_type": "code",
   "execution_count": 49,
   "metadata": {},
   "outputs": [],
   "source": [
    "#---------------------------------------- WEIGHT TESTING\n",
    "def test_weights(w,act):\n",
    "    err = 0\n",
    "    for i in range(len(input_data)):\n",
    "        vs = weighted_sum(input_data[i],w[1:]+weights[0])\n",
    "        \n",
    "        if act(vs,threshold) != output_labels[i]:\n",
    "            err+=1\n",
    "    e =err/len(input_data)\n",
    "    \n",
    "    print(\"\\n error/len of input data: \",e)\n",
    "    print(\"percentage: \",round(e*100),\"%\")"
   ]
  },
  {
   "cell_type": "code",
   "execution_count": 50,
   "metadata": {},
   "outputs": [],
   "source": [
    "#------------------------------------------- WEIGHTED SUM\n",
    "def weighted_sum(vec,weights):\n",
    "    w_vector = vec*weights\n",
    "    return w_vector.sum()\n"
   ]
  },
  {
   "cell_type": "code",
   "execution_count": 51,
   "metadata": {},
   "outputs": [],
   "source": [
    "#------------------------------------------- ACTIVATION\n",
    "def activation(val,threshold):\n",
    "    if val >= threshold:\n",
    "        return 1\n",
    "    else:\n",
    "        return 0\n"
   ]
  },
  {
   "cell_type": "code",
   "execution_count": 52,
   "metadata": {
    "scrolled": false
   },
   "outputs": [
    {
     "name": "stdout",
     "output_type": "stream",
     "text": [
      "activation: 1  &   output labels: 1\n",
      "iteration: 0   & weights: [ 0.43031537 -0.37456719  0.99136357]\n",
      "\n",
      "activation: 1  &   output labels: 1\n",
      "iteration: 1   & weights: [ 0.43031537 -0.37456719  0.99136357]\n",
      "\n",
      "activation: 1  &   output labels: 1\n",
      "iteration: 2   & weights: [ 0.43031537 -0.37456719  0.99136357]\n",
      "\n",
      "activation: 1  &   output labels: 1\n",
      "iteration: 3   & weights: [ 0.43031537 -0.37456719  0.99136357]\n",
      "\n",
      "activation: 1  &   output labels: 1\n",
      "iteration: 4   & weights: [ 0.43031537 -0.37456719  0.99136357]\n",
      "\n",
      "activation: 1  &   output labels: 1\n",
      "iteration: 5   & weights: [ 0.43031537 -0.37456719  0.99136357]\n",
      "\n",
      "activation: 1  &   output labels: 1\n",
      "iteration: 6   & weights: [ 0.43031537 -0.37456719  0.99136357]\n",
      "\n",
      "activation: 1  &   output labels: 1\n",
      "iteration: 7   & weights: [ 0.43031537 -0.37456719  0.99136357]\n",
      "\n",
      "activation: 1  &   output labels: 1\n",
      "iteration: 8   & weights: [ 0.43031537 -0.37456719  0.99136357]\n",
      "\n",
      "activation: 1  &   output labels: 1\n",
      "iteration: 9   & weights: [ 0.43031537 -0.37456719  0.99136357]\n",
      "\n",
      "activation: 1  &   output labels: 1\n",
      "iteration: 10   & weights: [ 0.43031537 -0.37456719  0.99136357]\n",
      "\n",
      "activation: 1  &   output labels: 1\n",
      "iteration: 11   & weights: [ 0.43031537 -0.37456719  0.99136357]\n",
      "\n",
      "activation: 1  &   output labels: 1\n",
      "iteration: 12   & weights: [ 0.43031537 -0.37456719  0.99136357]\n",
      "\n",
      "activation: 1  &   output labels: 1\n",
      "iteration: 13   & weights: [ 0.43031537 -0.37456719  0.99136357]\n",
      "\n",
      "activation: 1  &   output labels: 1\n",
      "iteration: 14   & weights: [ 0.43031537 -0.37456719  0.99136357]\n",
      "\n",
      "activation: 1  &   output labels: 1\n",
      "iteration: 15   & weights: [ 0.43031537 -0.37456719  0.99136357]\n",
      "\n",
      "activation: 1  &   output labels: 1\n",
      "iteration: 16   & weights: [ 0.43031537 -0.37456719  0.99136357]\n",
      "\n",
      "activation: 1  &   output labels: 1\n",
      "iteration: 17   & weights: [ 0.43031537 -0.37456719  0.99136357]\n",
      "\n",
      "activation: 1  &   output labels: 1\n",
      "iteration: 18   & weights: [ 0.43031537 -0.37456719  0.99136357]\n",
      "\n",
      "activation: 1  &   output labels: 1\n",
      "iteration: 19   & weights: [ 0.43031537 -0.37456719  0.99136357]\n",
      "\n",
      "\n",
      " error/len of input data:  0.2222222222222222\n",
      "percentage:  22 %\n"
     ]
    }
   ],
   "source": [
    "######################## MAIN() #########################\n",
    "\n",
    "\n",
    "#---------------------------------------------- DATA\n",
    "#precise data\n",
    "p_labels=[]\n",
    "p_rounds=[]\n",
    "\n",
    "#setting up data (random)\n",
    "for i in range(100):\n",
    "    donut = [np.random.uniform(1.0,2.0),np.random.uniform(1.0,2.0)]\n",
    "    s_bagel = [np.random.uniform(0.0,0.5),np.random.uniform(0.0,0.5)]\n",
    "    r_bagel = [np.random.uniform(0.5,1.0),np.random.uniform(0.5,1.0)]\n",
    "    \n",
    "    p_rounds += [donut,s_bagel,r_bagel]\n",
    "    p_labels += [1,0,0]\n",
    "    \n",
    "#splitting data (training & testing)\n",
    "ratio = int(len(p_rounds)*.7)\n",
    "\n",
    "#trainig sets\n",
    "train_input = np.array(p_rounds[:ratio])\n",
    "train_labels = np.array(p_labels[:ratio])\n",
    "\n",
    "#testing sets\n",
    "test_input = np.array(p_rounds[ratio:])\n",
    "test_labels = np.array(p_labels[ratio:])\n",
    "\n",
    "#input & labels\n",
    "input_data = train_input\n",
    "output_labels = train_labels\n",
    "\n",
    "#------------------------------------------- BIAS\n",
    "bias = np.random.uniform(-1.0,1.0)\n",
    "\n",
    "#------------------------------------------- WEIGHTS\n",
    "rand_weights = np.random.rand(len(p_rounds[0])+1)\n",
    "weights = (rand_weights*2)-1 #convert to a float btwn(-1,1)\n",
    "#print(weights)\n",
    "\n",
    "\n",
    "#------------------------------------------- THRESHOLD\n",
    "threshold = 1.0\n",
    "\n",
    "\n",
    "#------------------------------------------- ITERATIONS\n",
    "iterations = 20\n",
    "fit(iterations)\n",
    "\n",
    "\n",
    "#activate weighted test values to turn back to labels 0 or 1\n",
    "input_data = test_input\n",
    "output_labels = test_labels\n",
    "#---------------------------------------- WEIGHT TESTING\n",
    "test_weights(weights,activation)\n"
   ]
  }
 ],
 "metadata": {
  "kernelspec": {
   "display_name": "Python 3",
   "language": "python",
   "name": "python3"
  },
  "language_info": {
   "codemirror_mode": {
    "name": "ipython",
    "version": 3
   },
   "file_extension": ".py",
   "mimetype": "text/x-python",
   "name": "python",
   "nbconvert_exporter": "python",
   "pygments_lexer": "ipython3",
   "version": "3.8.5"
  }
 },
 "nbformat": 4,
 "nbformat_minor": 4
}
